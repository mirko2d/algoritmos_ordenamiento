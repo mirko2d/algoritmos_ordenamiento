{
 "cells": [
  {
   "cell_type": "markdown",
   "id": "b5aad89a",
   "metadata": {},
   "source": [
    "Selection Sort ordena la lista buscando repetidamente el elemento más pequeño y colocándolo en la posición correcta. Su complejidad temporal es \n",
    "𝑂\n",
    "(\n",
    "𝑛\n",
    "2\n",
    ")\n",
    "O (n \n",
    "2\n",
    " ) en todos los casos porque siempre recorre el resto de la lista para encontrar el mínimo. Además, es un algoritmo que no requiere espacio extra porque ordena la lista directamente."
   ]
  },
  {
   "cell_type": "code",
   "execution_count": 6,
   "id": "d82fc49a",
   "metadata": {},
   "outputs": [
    {
     "name": "stdout",
     "output_type": "stream",
     "text": [
      "Lista original: [5, 3, 4, 1]\n",
      "Ordenada con Selection Sort: [1, 3, 4, 5]\n"
     ]
    }
   ],
   "source": [
    "def selection_sort(arr):\n",
    "    n = len(arr)\n",
    "    for i in range(n):\n",
    "        min_idx = i\n",
    "        for j in range(i + 1, n):\n",
    "            if arr[j] < arr[min_idx]:\n",
    "                min_idx = j\n",
    "        arr[i], arr[min_idx] = arr[min_idx], arr[i]\n",
    "    return arr\n",
    "\n",
    "\n",
    "lista = [5, 3, 4, 1]\n",
    "print(\"Lista original:\", lista)\n",
    "print(\"Ordenada con Selection Sort:\", selection_sort(lista.copy()))\n"
   ]
  },
  {
   "cell_type": "markdown",
   "id": "f8b84f17",
   "metadata": {},
   "source": [
    "Comparación con Insertion Sort usando time"
   ]
  },
  {
   "cell_type": "markdown",
   "id": "7970d69a",
   "metadata": {},
   "source": [
    "¿Qué es Insertion Sort?\n",
    "Insertion Sort es un algoritmo de ordenamiento que recorre la lista desde el segundo elemento hasta el final. En cada paso, toma el elemento actual y lo inserta en la posición correcta dentro de la parte ya ordenada que está a su izquierda.\n",
    "\n",
    "\n"
   ]
  },
  {
   "cell_type": "code",
   "execution_count": null,
   "id": "d9643667",
   "metadata": {},
   "outputs": [
    {
     "name": "stdout",
     "output_type": "stream",
     "text": [
      "Selection Sort tardó: 0.025002479553222656 segundos\n",
      "Insertion Sort tardó: 0.03201794624328613 segundos\n"
     ]
    }
   ],
   "source": [
    "from encodings.punycode import insertion_sort\n",
    "import time\n",
    "import random\n",
    "\n",
    "\n",
    "lista = [random.randint(0, 10000) for _ in range(1000)]\n",
    "\n",
    "\n",
    "lista1 = lista.copy()\n",
    "lista2 = lista.copy()\n",
    "\n",
    "inicio = time.time()\n",
    "selection_sort(lista1)\n",
    "fin = time.time()\n",
    "tiempo_selection = fin - inicio\n",
    "print(\"Selection Sort tardó:\", tiempo_selection, \"segundos\")\n",
    "\n",
    "inicio = time.time()\n",
    "insertion_sort(lista2)\n",
    "fin = time.time()\n",
    "tiempo_insertion = fin - inicio\n",
    "print(\"Insertion Sort tardó:\", tiempo_insertion, \"segundos\")\n"
   ]
  }
 ],
 "metadata": {
  "kernelspec": {
   "display_name": "Python 3",
   "language": "python",
   "name": "python3"
  },
  "language_info": {
   "codemirror_mode": {
    "name": "ipython",
    "version": 3
   },
   "file_extension": ".py",
   "mimetype": "text/x-python",
   "name": "python",
   "nbconvert_exporter": "python",
   "pygments_lexer": "ipython3",
   "version": "3.10.0"
  }
 },
 "nbformat": 4,
 "nbformat_minor": 5
}
